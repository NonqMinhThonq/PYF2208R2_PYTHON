{
 "cells": [
  {
   "cell_type": "code",
   "execution_count": 8,
   "id": "272a3a95",
   "metadata": {},
   "outputs": [],
   "source": [
    "'''\n",
    "Khởi động: Viết chương trình in ra tất cả các số chia hết cho cả 5 và 7 trong khoảng từ 1500 đến 2700\n",
    "'''\n",
    "count = 1500\n",
    "\n",
    "while count < 2700:\n",
    "    if count % 5 == 0 and count % 7 == 0:\n",
    "        print (count)\n",
    "    count += 1"
   ]
  },
  {
   "cell_type": "code",
   "execution_count": 2,
   "id": "87f74c6c",
   "metadata": {},
   "outputs": [
    {
     "name": "stdout",
     "output_type": "stream",
     "text": [
      "input hieght of triangle: 5\n",
      "*****\n",
      "****\n",
      "***\n",
      "**\n",
      "*\n"
     ]
    }
   ],
   "source": [
    "'''\n",
    "Bài 1: Viết chương trình nhập vào chiều cao tam giác vuông và in ra tam giác có hình dạng như sau:\n",
    "*****\n",
    "****\n",
    "***\n",
    "** \n",
    "*\n",
    "'''\n",
    "h = int (input ('input hieght of triangle: '))\n",
    "while h >= 1:\n",
    "    print ('*' * h)\n",
    "    h -= 1"
   ]
  },
  {
   "cell_type": "code",
   "execution_count": 2,
   "id": "ea4c14a8",
   "metadata": {},
   "outputs": [
    {
     "name": "stdout",
     "output_type": "stream",
     "text": [
      "nhap vao chieu cao tam giac: 6\n",
      "* * * * * *\n",
      "* * * * *\n",
      "* * * *\n",
      "* * *\n",
      "* *\n",
      "*\n"
     ]
    }
   ],
   "source": [
    "'''\n",
    "Bài 2: Viết chương trình nhập vào chiều cao tam giác vuông và in ra tam giác có hình dạng như sau:\n",
    "* * * * * *\n",
    "* * * * *\n",
    "* * * *\n",
    "* * *\n",
    "* *\n",
    "*\n",
    "'''\n",
    "h = int (input ('nhap vao chieu cao tam giac: '))\n",
    "while h >= 1:\n",
    "    print ('* '*(h-1)+ '*')\n",
    "    h -= 1"
   ]
  },
  {
   "cell_type": "code",
   "execution_count": 1,
   "id": "bd17e085",
   "metadata": {},
   "outputs": [
    {
     "name": "stdout",
     "output_type": "stream",
     "text": [
      "nhap vao chieu cao cua tam giac: 7\n",
      "* - * - * - *\n",
      "* - * - * -\n",
      "* - * - *\n",
      "* - * -\n",
      "* - *\n",
      "* -\n",
      "*\n"
     ]
    }
   ],
   "source": [
    "'''\n",
    "Bài 3: Viết chương trình nhập vào chiều cao tam giác vuông và in ra tam giác có hình dạng như sau:\n",
    "* - * - *\n",
    "* - * -\n",
    "* - *\n",
    "* -\n",
    "*\n",
    "'''\n",
    "h = int (input ('nhap vao chieu cao cua tam giac: '))\n",
    "\n",
    "while h >= 1:\n",
    "    if h % 2:\n",
    "        print ('* - ' * (h // 2) + \"*\")\n",
    "    else:\n",
    "        print (('* - ' * (h // 2)).rstrip())\n",
    "    h -= 1"
   ]
  },
  {
   "cell_type": "code",
   "execution_count": 2,
   "id": "105b66bc",
   "metadata": {},
   "outputs": [
    {
     "name": "stdout",
     "output_type": "stream",
     "text": [
      "nhap vao mot so nguyen bat ky: 25\n",
      "python\n",
      "1\n",
      "2\n",
      "py\n",
      "4\n",
      "5\n",
      "py\n",
      "thon\n",
      "8\n",
      "py\n",
      "10\n",
      "11\n",
      "py\n",
      "13\n",
      "thon\n",
      "py\n",
      "16\n",
      "17\n",
      "py\n",
      "19\n",
      "20\n",
      "python\n",
      "22\n",
      "23\n",
      "py\n",
      "25\n"
     ]
    }
   ],
   "source": [
    "'''\n",
    "Bài 4: Viết chương trình nhập vào một số nguyên n và in ra các số từ 1 đến n với các trường hợp ngoại lệ như sau:\n",
    "- Nếu số đó chia hết cho 3 thì in \"py\"\n",
    "- Nếu số đó chia hết cho 7 thì in \"thon\"\n",
    "- Nếu số đó chia hết cho cả 3 và 4 thì in \"python\"\n",
    "\n",
    "Ví dụ: n = 25\n",
    "1\n",
    "2\n",
    "py\n",
    "4\n",
    "5\n",
    "py\n",
    "thon\n",
    "8\n",
    "py\n",
    "10\n",
    "11\n",
    "py\n",
    "13\n",
    "thon\n",
    "py\n",
    "16\n",
    "17\n",
    "py\n",
    "19\n",
    "20\n",
    "python\n",
    "22\n",
    "23\n",
    "py\n",
    "25\n",
    "'''\n",
    "n = int (input ('nhap vao mot so nguyen bat ky: '))\n",
    "i = 0\n",
    "while i <= n:\n",
    "    if i % 3 == 0 and i % 7 == 0:\n",
    "        print(\"python\")\n",
    "    elif i % 3 == 0:\n",
    "        print ('py')\n",
    "    elif i % 7 == 0:\n",
    "        print ('thon')\n",
    "    else:\n",
    "        print (i)\n",
    "    i += 1"
   ]
  },
  {
   "cell_type": "code",
   "execution_count": null,
   "id": "bbc97c92",
   "metadata": {},
   "outputs": [],
   "source": [
    "'''\n",
    "Bài 5: Viết chương trình nhập vào một số và kiểm tra xem số đó có phải là số nguyên tố hay không\n",
    "Note: Số nguyên tố là số chỉ chia hết cho 1 và chính nó\n",
    "'''\n",
    "n = int (input ('nhap vao so can kiem tra: '))\n",
    "d = 0\n",
    "m = 1\n",
    "while m <= n:\n",
    "    if n % m == 0:\n",
    "        d = d + 1\n",
    "    m += 1\n",
    "if d == 2:\n",
    "    print (n, 'la so nguyen to.')\n",
    "else:\n",
    "    print (n, 'khong phai la so nguyen to.')"
   ]
  },
  {
   "cell_type": "code",
   "execution_count": 1,
   "id": "d76fa311",
   "metadata": {},
   "outputs": [
    {
     "name": "stdout",
     "output_type": "stream",
     "text": [
      "nhap vao 1 so: 3\n",
      "may chon: 2\n",
      "nguoi choi thua.\n",
      "\n",
      "nhap vao 1 so: 2\n",
      "may chon: 1\n",
      "nnguoi choi thang.\n"
     ]
    }
   ],
   "source": [
    "'''\n",
    "Bài 6: Viết chương trình mô phỏng trò chơi kéo búa bao theo luật chơi như sau:\n",
    "Quy ước: 1 - búa, 2 - kéo, 3 - bao\n",
    "Khi trò chơi bắt đầu, yêu cầu người chơi nhập 1 số từ bàn phím đại diện cho kéo, búa, bao\n",
    "Chương trình tự random ra một lựa chọn từ 1 đến 3.\n",
    "Nếu người chơi thua thì tiếp tục chơi cho đến khi thắng thì kết thúc chương trình.\n",
    "Ví dụ:\n",
    "\n",
    "Mời lựa chọn(1 - búa, 2 - kéo, 3 - bao): 1\n",
    "Máy tính chọn: 3\n",
    "Người chơi thua.\n",
    "\n",
    "Mời lựa chọn(1 - búa, 2 - kéo, 3 - bao): 2\n",
    "Máy tính chọn: 1\n",
    "Người chơi thua.\n",
    "\n",
    "Mời lựa chọn(1 - búa, 2 - kéo, 3 - bao): 1\n",
    "Máy tính chọn: 2\n",
    "Người chơi thắng.\n",
    "'''\n",
    "from random import randint\n",
    "result = False\n",
    "while not result:\n",
    "\n",
    "    n = int (input ('nhap vao 1 so: '))\n",
    "    m = randint(1, 3)\n",
    "    print ('may chon:', randint(1, 3))\n",
    "    if n != 3 and n + 1 == m:\n",
    "        print ('nnguoi choi thang.')\n",
    "        result = True\n",
    "    elif n == 3 and m == 1:\n",
    "        print ('nguoi choi thang.')\n",
    "        result = True\n",
    "    else:\n",
    "        print('nguoi choi thua.')\n",
    "        print()"
   ]
  },
  {
   "cell_type": "code",
   "execution_count": null,
   "id": "492812ea",
   "metadata": {},
   "outputs": [
    {
     "name": "stdout",
     "output_type": "stream",
     "text": [
      "  KÍNH CHÀO QUÝ KHÁCH\n",
      "menu ^^\n",
      "1, sôi\n",
      "2, bánh mỳ\n",
      "3, cháo\n",
      "4, phở\n",
      "5, mì\n",
      "6, sữa\n",
      "7, coca\n",
      "vui lòng chọn món: 4\n"
     ]
    },
    {
     "name": "stderr",
     "output_type": "stream",
     "text": [
      "IOPub data rate exceeded.\n",
      "The notebook server will temporarily stop sending output\n",
      "to the client in order to avoid crashing it.\n",
      "To change this limit, set the config variable\n",
      "`--NotebookApp.iopub_data_rate_limit`.\n",
      "\n",
      "Current values:\n",
      "NotebookApp.iopub_data_rate_limit=1000000.0 (bytes/sec)\n",
      "NotebookApp.rate_limit_window=3.0 (secs)\n",
      "\n"
     ]
    }
   ],
   "source": [
    "print ('  KÍNH CHÀO QUÝ KHÁCH')\n",
    "print ('menu ^^')\n",
    "print ('1, sôi')\n",
    "print ('2, bánh mỳ')\n",
    "print ('3, cháo')\n",
    "print ('4, phở')\n",
    "print ('5, mì')\n",
    "print ('6, sữa')\n",
    "print ('7, coca')\n",
    "n = int (input ('vui lòng chọn món: '))\n",
    "def oder():\n",
    "    while n <= 7:\n",
    "        if n < 7:\n",
    "            print ('vui lòng nhập số lượng: ')\n",
    "            print ('quý khách có muốn oder thêm không ạ: ')\n",
    "    if n > 7:\n",
    "        print ('cảm ơn quý khách.')\n",
    "oder()\n"
   ]
  },
  {
   "cell_type": "code",
   "execution_count": null,
   "id": "ffbf2be1",
   "metadata": {},
   "outputs": [],
   "source": []
  }
 ],
 "metadata": {
  "kernelspec": {
   "display_name": "Python 3 (ipykernel)",
   "language": "python",
   "name": "python3"
  },
  "language_info": {
   "codemirror_mode": {
    "name": "ipython",
    "version": 3
   },
   "file_extension": ".py",
   "mimetype": "text/x-python",
   "name": "python",
   "nbconvert_exporter": "python",
   "pygments_lexer": "ipython3",
   "version": "3.10.7"
  }
 },
 "nbformat": 4,
 "nbformat_minor": 5
}
