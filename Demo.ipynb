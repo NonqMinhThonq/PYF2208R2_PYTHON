{
 "cells": [
  {
   "cell_type": "code",
   "execution_count": 1,
   "id": "a7e2de72",
   "metadata": {},
   "outputs": [],
   "source": [
    "import turtle"
   ]
  },
  {
   "cell_type": "code",
   "execution_count": 2,
   "id": "bad920a7",
   "metadata": {},
   "outputs": [],
   "source": [
    "wn = turtle.Screen()\n",
    "wn.bgcolor('black')\n",
    "wn.title('Star')\n",
    "\n",
    "myPen = turtle.Turtle()\n",
    "myPen.speed(0)\n",
    "myPen.color('#112233')\n",
    "\n",
    "for j in range (1, 100):\n",
    "    for i in range (1,6):\n",
    "        myPen.left(144)\n",
    "        myPen.forward(200)\n",
    "    myPen.left(5)\n",
    "    \n",
    "turtle.done()"
   ]
  },
  {
   "cell_type": "code",
   "execution_count": 7,
   "id": "082f5a5e",
   "metadata": {},
   "outputs": [
    {
     "name": "stdout",
     "output_type": "stream",
     "text": [
      "In các số từ 1-10 theo thứ tự giảm dần\n",
      "cach 1\n",
      "10 9 8 7 6 5 4 3 2 1 \n",
      "cach 2\n",
      "10 9 8 7 6 5 4 3 2 1 "
     ]
    }
   ],
   "source": [
    "print('In các số từ 1-10 theo thứ tự giảm dần')\n",
    "print('cach 1')\n",
    "for i in range(10,0,-1):\n",
    "    print(i, end = ' ')\n",
    "\n",
    "print('\\ncach 2')\n",
    "for i in reversed(range(1,11)):\n",
    "    print(i, end=' ')"
   ]
  },
  {
   "cell_type": "code",
   "execution_count": 9,
   "id": "62bb46d5",
   "metadata": {},
   "outputs": [
    {
     "name": "stdout",
     "output_type": "stream",
     "text": [
      "in bảng số từ 1 đến 100\n",
      "1  11  21  31  41  51  61  71  81  91  \n",
      "2  12  22  32  42  52  62  72  82  92  \n",
      "3  13  23  33  43  53  63  73  83  93  \n",
      "4  14  24  34  44  54  64  74  84  94  \n",
      "5  15  25  35  45  55  65  75  85  95  \n",
      "6  16  26  36  46  56  66  76  86  96  \n",
      "7  17  27  37  47  57  67  77  87  97  \n",
      "8  18  28  38  48  58  68  78  88  98  \n",
      "9  19  29  39  49  59  69  79  89  99  \n",
      "10  20  30  40  50  60  70  80  90  100  \n"
     ]
    }
   ],
   "source": [
    "print ('in bảng số từ 1 đến 100')\n",
    "\n",
    "for i in range (0, 10):\n",
    "    for j in range(i+1, 101, 10):\n",
    "        print(format(j), end = '  ')\n",
    "    print()"
   ]
  },
  {
   "cell_type": "code",
   "execution_count": null,
   "id": "80714b33",
   "metadata": {},
   "outputs": [],
   "source": []
  },
  {
   "cell_type": "code",
   "execution_count": null,
   "id": "91174fae",
   "metadata": {},
   "outputs": [],
   "source": []
  },
  {
   "cell_type": "code",
   "execution_count": null,
   "id": "e710156f",
   "metadata": {},
   "outputs": [],
   "source": []
  },
  {
   "cell_type": "code",
   "execution_count": null,
   "id": "a460b0b1",
   "metadata": {},
   "outputs": [],
   "source": []
  },
  {
   "cell_type": "code",
   "execution_count": null,
   "id": "3683a50f",
   "metadata": {},
   "outputs": [],
   "source": []
  },
  {
   "cell_type": "code",
   "execution_count": null,
   "id": "4d757dec",
   "metadata": {},
   "outputs": [],
   "source": []
  }
 ],
 "metadata": {
  "kernelspec": {
   "display_name": "Python 3 (ipykernel)",
   "language": "python",
   "name": "python3"
  },
  "language_info": {
   "codemirror_mode": {
    "name": "ipython",
    "version": 3
   },
   "file_extension": ".py",
   "mimetype": "text/x-python",
   "name": "python",
   "nbconvert_exporter": "python",
   "pygments_lexer": "ipython3",
   "version": "3.10.7"
  }
 },
 "nbformat": 4,
 "nbformat_minor": 5
}
