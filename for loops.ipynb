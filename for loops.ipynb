{
 "cells": [
  {
   "cell_type": "code",
   "execution_count": 9,
   "id": "29c23c05",
   "metadata": {},
   "outputs": [
    {
     "name": "stdout",
     "output_type": "stream",
     "text": [
      "in bảng cửu chương rút gọn\n",
      "2      4      6      8      10     12     14     16     18     20      \n",
      "3      6      9      12     15     18     21     24     27     30      \n",
      "4      8      12     16     20     24     28     32     36     40      \n",
      "5      10     15     20     25     30     35     40     45     50      \n",
      "6      12     18     24     30     36     42     48     54     60      \n",
      "7      14     21     28     35     42     49     56     63     70      \n",
      "8      16     24     32     40     48     56     64     72     80      \n",
      "9      18     27     36     45     54     63     72     81     90      \n",
      "10     20     30     40     50     60     70     80     90     100     \n"
     ]
    }
   ],
   "source": [
    "print('in bảng cửu chương rút gọn')\n",
    "\n",
    "start = 2\n",
    "end = 11\n",
    "for i in range (start, end):\n",
    "    count = i\n",
    "    for j in range(1, 11):\n",
    "        print('{:<5}'.format(count*j), end= ' ')\n",
    "    print(' ')"
   ]
  }
 ],
 "metadata": {
  "kernelspec": {
   "display_name": "Python 3 (ipykernel)",
   "language": "python",
   "name": "python3"
  },
  "language_info": {
   "codemirror_mode": {
    "name": "ipython",
    "version": 3
   },
   "file_extension": ".py",
   "mimetype": "text/x-python",
   "name": "python",
   "nbconvert_exporter": "python",
   "pygments_lexer": "ipython3",
   "version": "3.10.7"
  }
 },
 "nbformat": 4,
 "nbformat_minor": 5
}
