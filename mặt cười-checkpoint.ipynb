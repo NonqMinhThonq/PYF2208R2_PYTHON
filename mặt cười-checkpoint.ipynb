{
 "cells": [
  {
   "cell_type": "code",
   "execution_count": 1,
   "id": "7de7c3ad",
   "metadata": {},
   "outputs": [],
   "source": [
    "import turtle \n",
    "\n",
    "pen = turtle.Turtle()\n",
    "pen.pensize(5)\n",
    "pen.pencolor(\"Blue\")\n",
    "pen.pendown()\n",
    "\n",
    "# variables\n",
    "facesize = 200\n",
    "eyesize = 50\n",
    "\n",
    "# 1, ve khoun mat\n",
    "pen.penup()\n",
    "pen.goto(0, -200)\n",
    "pen.pendown()\n",
    "pen.circle(facesize)\n",
    "\n",
    "# 2, ve mat trai\n",
    "pen.penup()\n",
    "pen.goto(-100, 70)\n",
    "pen.pendown()\n",
    "pen.fillcolor(\"Blue\")\n",
    "pen.begin_fill()\n",
    "pen.circle(30)\n",
    "pen.end_fill()\n",
    "\n",
    "# 3, ve mat phai\n",
    "pen.penup()\n",
    "pen.goto(100, 70)\n",
    "pen.pendown()\n",
    "pen.fillcolor(\"blue\")\n",
    "pen.begin_fill()\n",
    "pen.circle(30)\n",
    "pen.end_fill()\n",
    "\n",
    "# 4, ve mieng cuoi\n",
    "pen.penup()\n",
    "pen.pensize(20)\n",
    "pen.goto(-100, 0)\n",
    "pen.pendown()\n",
    "pen.right(90)\n",
    "pen.circle(100, 180)\n",
    "\n",
    "# 5, mui\n",
    "pen.penup()\n",
    "pen.pensize(15)\n",
    "pen.color(\"Red\")\n",
    "pen.goto(-30,40 )\n",
    "pen.pendown()\n",
    "pen.left(270)\n",
    "pen.forward(50)\n",
    "pen.left(120)\n",
    "pen.forward(50)\n",
    "pen.left(120)\n",
    "pen.forward(50)"
   ]
  },
  {
   "cell_type": "code",
   "execution_count": null,
   "id": "40634741",
   "metadata": {},
   "outputs": [],
   "source": []
  },
  {
   "cell_type": "code",
   "execution_count": null,
   "id": "4b71d68e",
   "metadata": {},
   "outputs": [],
   "source": []
  },
  {
   "cell_type": "code",
   "execution_count": null,
   "id": "5e826d5f",
   "metadata": {},
   "outputs": [],
   "source": []
  }
 ],
 "metadata": {
  "kernelspec": {
   "display_name": "Python 3 (ipykernel)",
   "language": "python",
   "name": "python3"
  },
  "language_info": {
   "codemirror_mode": {
    "name": "ipython",
    "version": 3
   },
   "file_extension": ".py",
   "mimetype": "text/x-python",
   "name": "python",
   "nbconvert_exporter": "python",
   "pygments_lexer": "ipython3",
   "version": "3.10.7"
  }
 },
 "nbformat": 4,
 "nbformat_minor": 5
}
