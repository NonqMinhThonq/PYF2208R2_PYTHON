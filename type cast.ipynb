{
 "cells": [
  {
   "cell_type": "code",
   "execution_count": 2,
   "id": "f0245ab4",
   "metadata": {},
   "outputs": [],
   "source": [
    "x = 1\n",
    "y = 2.0\n",
    "z = '3'\n"
   ]
  },
  {
   "cell_type": "code",
   "execution_count": 3,
   "id": "5b154e09",
   "metadata": {},
   "outputs": [
    {
     "name": "stdout",
     "output_type": "stream",
     "text": [
      "1\n"
     ]
    }
   ],
   "source": [
    "print (x)"
   ]
  },
  {
   "cell_type": "code",
   "execution_count": 4,
   "id": "702bd201",
   "metadata": {},
   "outputs": [
    {
     "name": "stdout",
     "output_type": "stream",
     "text": [
      "2\n"
     ]
    }
   ],
   "source": [
    "print(int(y))"
   ]
  },
  {
   "cell_type": "code",
   "execution_count": 6,
   "id": "b28476e8",
   "metadata": {},
   "outputs": [
    {
     "name": "stdout",
     "output_type": "stream",
     "text": [
      "2.0\n"
     ]
    }
   ],
   "source": [
    "print(y)"
   ]
  },
  {
   "cell_type": "code",
   "execution_count": 8,
   "id": "51927996",
   "metadata": {},
   "outputs": [
    {
     "data": {
      "text/plain": [
       "float"
      ]
     },
     "execution_count": 8,
     "metadata": {},
     "output_type": "execute_result"
    }
   ],
   "source": [
    "type(y)"
   ]
  },
  {
   "cell_type": "code",
   "execution_count": 9,
   "id": "00429b96",
   "metadata": {},
   "outputs": [],
   "source": [
    "# string nhan string = so nhan\n",
    "e = z * 3"
   ]
  },
  {
   "cell_type": "code",
   "execution_count": 10,
   "id": "efa6f565",
   "metadata": {},
   "outputs": [
    {
     "data": {
      "text/plain": [
       "'333'"
      ]
     },
     "execution_count": 10,
     "metadata": {},
     "output_type": "execute_result"
    }
   ],
   "source": [
    "e"
   ]
  },
  {
   "cell_type": "code",
   "execution_count": 19,
   "id": "b2232d12",
   "metadata": {},
   "outputs": [
    {
     "data": {
      "text/plain": [
       "int"
      ]
     },
     "execution_count": 19,
     "metadata": {},
     "output_type": "execute_result"
    }
   ],
   "source": [
    "type(eval(z))"
   ]
  },
  {
   "cell_type": "code",
   "execution_count": null,
   "id": "7b80844d",
   "metadata": {},
   "outputs": [],
   "source": [
    "name = input ('name ' )\n",
    "\n",
    "age = eval (input ('how old are you: '))\n",
    "height = eval(input())\n",
    "age = age + 1\n",
    "print('hello', name)\n",
    "\n",
    "\n"
   ]
  },
  {
   "cell_type": "code",
   "execution_count": null,
   "id": "2c544e0b",
   "metadata": {},
   "outputs": [],
   "source": [
    "name = input ('name ' )\n",
    "\n",
    "age = eval (input ('how old are you: '))\n",
    "height = eval(input('how tall are you: '))\n",
    "age = age + 1\n",
    "print('hello', name)\n",
    "print ('you are', age, 'years old')\n",
    "print ('you are', height, 'years old')"
   ]
  },
  {
   "cell_type": "code",
   "execution_count": 1,
   "id": "977f44c9",
   "metadata": {},
   "outputs": [],
   "source": [
    "import math\n"
   ]
  },
  {
   "cell_type": "code",
   "execution_count": 2,
   "id": "7ea873d8",
   "metadata": {},
   "outputs": [],
   "source": [
    "pi = 3.14\n"
   ]
  },
  {
   "cell_type": "code",
   "execution_count": 3,
   "id": "d964ea94",
   "metadata": {},
   "outputs": [
    {
     "name": "stdout",
     "output_type": "stream",
     "text": [
      "3\n"
     ]
    }
   ],
   "source": [
    "print (round(pi))"
   ]
  },
  {
   "cell_type": "code",
   "execution_count": 5,
   "id": "4350b548",
   "metadata": {},
   "outputs": [
    {
     "name": "stdout",
     "output_type": "stream",
     "text": [
      "4\n"
     ]
    }
   ],
   "source": [
    "print(math.ceil(pi))"
   ]
  },
  {
   "cell_type": "code",
   "execution_count": 6,
   "id": "98b7d7a6",
   "metadata": {},
   "outputs": [
    {
     "name": "stdout",
     "output_type": "stream",
     "text": [
      "3\n"
     ]
    }
   ],
   "source": [
    "print(math.floor(pi))"
   ]
  },
  {
   "cell_type": "code",
   "execution_count": 8,
   "id": "95e2299a",
   "metadata": {},
   "outputs": [
    {
     "name": "stdout",
     "output_type": "stream",
     "text": [
      "3.14\n"
     ]
    }
   ],
   "source": [
    "pii = -3.14\n",
    "print(abs(pii))"
   ]
  },
  {
   "cell_type": "code",
   "execution_count": 16,
   "id": "5dae8f07",
   "metadata": {},
   "outputs": [
    {
     "name": "stdout",
     "output_type": "stream",
     "text": [
      "16\n"
     ]
    }
   ],
   "source": [
    "p = 3\n",
    "print(pow(4, 2))# binhf phuowng so truoc dau phay"
   ]
  },
  {
   "cell_type": "code",
   "execution_count": 19,
   "id": "858ef7d4",
   "metadata": {},
   "outputs": [
    {
     "name": "stdout",
     "output_type": "stream",
     "text": [
      "2.0\n"
     ]
    }
   ],
   "source": [
    "print(math.sqrt())"
   ]
  }
 ],
 "metadata": {
  "kernelspec": {
   "display_name": "Python 3 (ipykernel)",
   "language": "python",
   "name": "python3"
  },
  "language_info": {
   "codemirror_mode": {
    "name": "ipython",
    "version": 3
   },
   "file_extension": ".py",
   "mimetype": "text/x-python",
   "name": "python",
   "nbconvert_exporter": "python",
   "pygments_lexer": "ipython3",
   "version": "3.10.7"
  }
 },
 "nbformat": 4,
 "nbformat_minor": 5
}
